{
 "cells": [
  {
   "cell_type": "code",
   "execution_count": 38,
   "metadata": {},
   "outputs": [
    {
     "name": "stdout",
     "output_type": "stream",
     "text": [
      "Введіть а -7\n",
      "Введіть b 66\n",
      "число  а додатнє  False\n",
      "число  а парне  False\n",
      "число  а кратне 13  False\n",
      "число  а та b парні  False\n",
      "число  а та b однаково парні чи не парні  False\n"
     ]
    }
   ],
   "source": [
    "a=int(input('Введіть а '))\n",
    "b=int(input('Введіть b '))\n",
    "print ('число  а додатнє ',(a>0) )\n",
    "print ('число  а парне ',(a//2==a/2)) \n",
    "print ('число  а кратне 13 ',(a%13==0)) \n",
    "print ('число  а та b парні ',(a%2==0) and (b%2==0)) \n",
    "print ('число  а та b однаково парні чи не парні ',((a%2==0) and (b%2==0) or (a%2!=0) and (b%2!=0)) )"
   ]
  },
  {
   "cell_type": "code",
   "execution_count": 18,
   "metadata": {},
   "outputs": [
    {
     "name": "stdout",
     "output_type": "stream",
     "text": [
      "введіть парольfdjksahgjdsak#\n",
      "Ви ввели сильний пароль True\n"
     ]
    }
   ],
   "source": [
    "pas=input(\"введіть пароль\")\n",
    "print ('Ви ввели сильний пароль',bool(len(pas)>7 and (pas.count('@')>0 or pas.count('#') )))\n"
   ]
  },
  {
   "cell_type": "code",
   "execution_count": 23,
   "metadata": {},
   "outputs": [
    {
     "name": "stdout",
     "output_type": "stream",
     "text": [
      "Введіть символ c\n",
      "папередній символ  b  наступний  d\n"
     ]
    }
   ],
   "source": [
    "char=(input('Введіть символ '))\n",
    "print ('папередній символ ', chr(ord(char)-1),' наступний ', chr(ord(char)+1))"
   ]
  },
  {
   "cell_type": "code",
   "execution_count": 21,
   "metadata": {},
   "outputs": [
    {
     "name": "stdout",
     "output_type": "stream",
     "text": [
      "введіть словосполучення lama root\n",
      "toor amal\n"
     ]
    }
   ],
   "source": [
    "tw=input('введіть словосполучення ')\n",
    "a=tw.find(\" \")\n",
    "w1=tw[:a]\n",
    "w1=w1[::-1]\n",
    "w2=tw[a+1:len(tw)]\n",
    "w2=w2[::-1]\n",
    "print (w2,w1)"
   ]
  },
  {
   "cell_type": "code",
   "execution_count": null,
   "metadata": {},
   "outputs": [],
   "source": []
  }
 ],
 "metadata": {
  "kernelspec": {
   "display_name": "Python 3",
   "language": "python",
   "name": "python3"
  },
  "language_info": {
   "codemirror_mode": {
    "name": "ipython",
    "version": 3
   },
   "file_extension": ".py",
   "mimetype": "text/x-python",
   "name": "python",
   "nbconvert_exporter": "python",
   "pygments_lexer": "ipython3",
   "version": "3.7.6"
  }
 },
 "nbformat": 4,
 "nbformat_minor": 4
}
